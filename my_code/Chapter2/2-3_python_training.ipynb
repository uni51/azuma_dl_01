{
 "cells": [
  {
   "cell_type": "markdown",
   "metadata": {},
   "source": [
    "## 2.3 Pythonの文法"
   ]
  },
  {
   "cell_type": "markdown",
   "metadata": {},
   "source": [
    "### 2.3.1 変数と型"
   ]
  },
  {
   "cell_type": "code",
   "execution_count": 1,
   "metadata": {},
   "outputs": [],
   "source": [
    "a = 123"
   ]
  },
  {
   "cell_type": "code",
   "execution_count": 2,
   "metadata": {},
   "outputs": [],
   "source": [
    "a = 123  # 整数型\n",
    "b = 123.456  # 浮動小数点型\n",
    "c = \"Hello World!\"  # 文字列型\n",
    "d = True  # 論理型\n",
    "e = [1, 2, 3]  #リスト型"
   ]
  },
  {
   "cell_type": "code",
   "execution_count": 3,
   "metadata": {},
   "outputs": [
    {
     "name": "stdout",
     "output_type": "stream",
     "text": [
      "<class 'int'>\n"
     ]
    }
   ],
   "source": [
    "a = 123\n",
    "print(type(a))"
   ]
  },
  {
   "cell_type": "code",
   "execution_count": 4,
   "metadata": {},
   "outputs": [
    {
     "name": "stdout",
     "output_type": "stream",
     "text": [
      "1\n"
     ]
    }
   ],
   "source": [
    "a = True; b = False\n",
    "print(a+b)"
   ]
  },
  {
   "cell_type": "code",
   "execution_count": 5,
   "metadata": {},
   "outputs": [
    {
     "data": {
      "text/plain": [
       "1.2e-05"
      ]
     },
     "execution_count": 5,
     "metadata": {},
     "output_type": "execute_result"
    }
   ],
   "source": [
    "1.2e5   # 1.2x10の5乗 120000\n",
    "1.2e-5  # 1.2x10の-5乗 0.000012"
   ]
  },
  {
   "cell_type": "markdown",
   "metadata": {},
   "source": [
    "### 2.3.2 演算子"
   ]
  },
  {
   "cell_type": "code",
   "execution_count": 6,
   "metadata": {},
   "outputs": [
    {
     "name": "stdout",
     "output_type": "stream",
     "text": [
      "7\n",
      "True\n",
      "True\n"
     ]
    }
   ],
   "source": [
    "a = 3; b = 4\n",
    "\n",
    "c = a + b               # 足し算\n",
    "print(c) \n",
    "\n",
    "d = a < b               # 比較（小さいかどうか）\n",
    "print(d)\n",
    "\n",
    "e = 3 < 4 and 4 < 5     # 論理和\n",
    "print(e)"
   ]
  },
  {
   "cell_type": "code",
   "execution_count": 7,
   "metadata": {},
   "outputs": [
    {
     "name": "stdout",
     "output_type": "stream",
     "text": [
      "HelloWorld\n",
      "[1, 2, 3, 4, 5, 6]\n"
     ]
    }
   ],
   "source": [
    "a = \"Hello\" + \"World\"\n",
    "print(a)\n",
    "\n",
    "b = [1, 2, 3] + [4, 5, 6]\n",
    "print(b)"
   ]
  },
  {
   "cell_type": "markdown",
   "metadata": {},
   "source": [
    "### 2.3.3 リスト"
   ]
  },
  {
   "cell_type": "code",
   "execution_count": 8,
   "metadata": {},
   "outputs": [
    {
     "name": "stdout",
     "output_type": "stream",
     "text": [
      "3\n",
      "[1, 2, 3, 4, 5, 6]\n",
      "[1, 2, 7, 4, 5, 6]\n"
     ]
    }
   ],
   "source": [
    "a = [1, 2, 3, 4, 5]     # リストの作成\n",
    "\n",
    "b = a[2]                # 3番目の要素を取得\n",
    "print(b)\n",
    "\n",
    "a.append(6)             # 末尾に要素を追加する\n",
    "print(a)\n",
    "\n",
    "a[2] = 7                # 要素の入れ替え\n",
    "print(a)"
   ]
  },
  {
   "cell_type": "markdown",
   "metadata": {},
   "source": [
    "### 2.3.4 タプル"
   ]
  },
  {
   "cell_type": "code",
   "execution_count": 9,
   "metadata": {},
   "outputs": [
    {
     "name": "stdout",
     "output_type": "stream",
     "text": [
      "3\n"
     ]
    }
   ],
   "source": [
    "a = (1, 2, 3, 4, 5)     # タプルの作成\n",
    "\n",
    "b = a[2]                # 3番目の要素を取得\n",
    "print(b)"
   ]
  },
  {
   "cell_type": "code",
   "execution_count": 10,
   "metadata": {},
   "outputs": [
    {
     "name": "stdout",
     "output_type": "stream",
     "text": [
      "(1, 2, 3, 4, 5, 6, 7, 8, 9, 10)\n"
     ]
    }
   ],
   "source": [
    "# +の演算子で、タプル同士を結合した新たなタプルを作ることもできます。\n",
    "print(a + (6, 7, 8, 9, 10))"
   ]
  },
  {
   "cell_type": "code",
   "execution_count": 11,
   "metadata": {},
   "outputs": [
    {
     "name": "stdout",
     "output_type": "stream",
     "text": [
      "1 2 3\n",
      "4 5 6\n"
     ]
    }
   ],
   "source": [
    "a = [1, 2, 3]\n",
    "a1, a2, a3 = a    # リストの各要素を別々の変数に代入\n",
    "print(a1, a2, a3)\n",
    "\n",
    "b = (4, 5, 6)\n",
    "b1, b2, b3 = b    # タプルの各要素を別々の変数に代入 \n",
    "print(b1, b2, b3)"
   ]
  },
  {
   "cell_type": "markdown",
   "metadata": {},
   "source": [
    "### 2.3.5 辞書"
   ]
  },
  {
   "cell_type": "code",
   "execution_count": 13,
   "metadata": {},
   "outputs": [
    {
     "name": "stdout",
     "output_type": "stream",
     "text": [
      "3\n",
      "6\n",
      "{'Apple': 3, 'Pineapple': 6, 'Melon': 3}\n"
     ]
    }
   ],
   "source": [
    "a = {\"Apple\":3, \"Pineapple\":4}      # 辞書の作成\n",
    "\n",
    "print(a[\"Apple\"])       # \"Apple\"のキーを持つ値を取得\n",
    "\n",
    "a[\"Pineapple\"] = 6       # 要素の入れ替え\n",
    "print(a[\"Pineapple\"])\n",
    "\n",
    "a[\"Melon\"] = 3          # 要素の追加\n",
    "print(a)"
   ]
  },
  {
   "cell_type": "markdown",
   "metadata": {},
   "source": [
    "### 2.3.6 if文"
   ]
  },
  {
   "cell_type": "code",
   "execution_count": 14,
   "metadata": {},
   "outputs": [
    {
     "name": "stdout",
     "output_type": "stream",
     "text": [
      "Good morning!\n"
     ]
    }
   ],
   "source": [
    "a = 7\n",
    "if a < 12:\n",
    "    print(\"Good morning!\")\n",
    "elif a < 17:\n",
    "    print(\"Good afternoon!\")\n",
    "elif a < 21:\n",
    "    print(\"Good evening!\")\n",
    "else:\n",
    "    print(\"Good night!\")"
   ]
  },
  {
   "cell_type": "markdown",
   "metadata": {},
   "source": [
    "### 2.3.7 for文"
   ]
  },
  {
   "cell_type": "code",
   "execution_count": 15,
   "metadata": {},
   "outputs": [
    {
     "name": "stdout",
     "output_type": "stream",
     "text": [
      "4\n",
      "7\n",
      "10\n",
      "0\n",
      "1\n",
      "2\n"
     ]
    }
   ],
   "source": [
    "for a in [4, 7, 10]:    # リストを使ったループ\n",
    "    print(a)\n",
    "    \n",
    "for a in range(3):      # rangeを使ったループ\n",
    "    print(a)"
   ]
  },
  {
   "cell_type": "markdown",
   "metadata": {},
   "source": [
    "### 2.3.8 while文"
   ]
  },
  {
   "cell_type": "code",
   "execution_count": 16,
   "metadata": {},
   "outputs": [
    {
     "name": "stdout",
     "output_type": "stream",
     "text": [
      "0\n",
      "1\n",
      "2\n"
     ]
    }
   ],
   "source": [
    "a = 0\n",
    "while a < 3:\n",
    "    print(a)\n",
    "    a += 1"
   ]
  },
  {
   "cell_type": "markdown",
   "metadata": {},
   "source": [
    "### 2.3.9 内包表記"
   ]
  },
  {
   "cell_type": "code",
   "execution_count": 17,
   "metadata": {},
   "outputs": [
    {
     "name": "stdout",
     "output_type": "stream",
     "text": [
      "[2, 4, 6, 8, 10, 12, 14]\n"
     ]
    }
   ],
   "source": [
    "a = [1, 2, 3, 4, 5, 6, 7]\n",
    "b = [c*2 for c in a]    # aの要素を2倍して新たなリストを作る\n",
    "print(b)"
   ]
  },
  {
   "cell_type": "code",
   "execution_count": 18,
   "metadata": {},
   "outputs": [
    {
     "name": "stdout",
     "output_type": "stream",
     "text": [
      "[2, 4, 6, 8]\n"
     ]
    }
   ],
   "source": [
    "a = [1, 2, 3, 4, 5, 6, 7]\n",
    "b = [c*2 for c in a if c < 5]\n",
    "print(b)"
   ]
  },
  {
   "cell_type": "markdown",
   "metadata": {},
   "source": [
    "### 2.3.10 関数"
   ]
  },
  {
   "cell_type": "code",
   "execution_count": 19,
   "metadata": {},
   "outputs": [
    {
     "name": "stdout",
     "output_type": "stream",
     "text": [
      "7\n"
     ]
    }
   ],
   "source": [
    "def add(a, b):          # 関数の定義\n",
    "    c = a + b\n",
    "    return c\n",
    "\n",
    "print(add(3, 4))        # 関数の実行"
   ]
  },
  {
   "cell_type": "code",
   "execution_count": 20,
   "metadata": {},
   "outputs": [
    {
     "name": "stdout",
     "output_type": "stream",
     "text": [
      "7\n"
     ]
    }
   ],
   "source": [
    "def add(a, b=4):        # 第2引数にデフォルト値を設定\n",
    "    c = a + b\n",
    "    return c\n",
    "\n",
    "print(add(3))           # 第2引数は指定しない"
   ]
  },
  {
   "cell_type": "code",
   "execution_count": 21,
   "metadata": {},
   "outputs": [
    {
     "name": "stdout",
     "output_type": "stream",
     "text": [
      "6\n"
     ]
    }
   ],
   "source": [
    "def add(a, b ,c):\n",
    "    d = a + b + c\n",
    "    print(d)\n",
    "\n",
    "e = (1, 2, 3)\n",
    "add(*e)           # 複数の引数を一度に渡す"
   ]
  },
  {
   "cell_type": "markdown",
   "metadata": {},
   "source": [
    "### 2.3.11 変数のスコープ"
   ]
  },
  {
   "cell_type": "code",
   "execution_count": 22,
   "metadata": {},
   "outputs": [
    {
     "name": "stdout",
     "output_type": "stream",
     "text": [
      "123 456\n"
     ]
    }
   ],
   "source": [
    "a = 123         # グローバル変数\n",
    "\n",
    "def showNum():\n",
    "    b = 456     # ローカル変数\n",
    "    print(a, b)\n",
    "    \n",
    "showNum()"
   ]
  },
  {
   "cell_type": "code",
   "execution_count": 23,
   "metadata": {},
   "outputs": [
    {
     "name": "stdout",
     "output_type": "stream",
     "text": [
      "Local: 456\n",
      "Global: 123\n"
     ]
    }
   ],
   "source": [
    "a = 123\n",
    "\n",
    "def setLocal():\n",
    "    a = 456     # aはローカル変数とみなされる\n",
    "    print(\"Local:\", a)\n",
    "    \n",
    "setLocal()\n",
    "print(\"Global:\", a)"
   ]
  },
  {
   "cell_type": "code",
   "execution_count": 24,
   "metadata": {},
   "outputs": [
    {
     "name": "stdout",
     "output_type": "stream",
     "text": [
      "Global: 456\n",
      "Global: 456\n"
     ]
    }
   ],
   "source": [
    "a = 123\n",
    "\n",
    "def setGlobal():\n",
    "    global a            # nonlocalでも可\n",
    "    a = 456\n",
    "    print(\"Global:\", a)\n",
    "    \n",
    "setGlobal()\n",
    "print(\"Global:\", a)"
   ]
  },
  {
   "cell_type": "markdown",
   "metadata": {},
   "source": [
    "### 2.3.12 クラス"
   ]
  },
  {
   "cell_type": "code",
   "execution_count": 25,
   "metadata": {},
   "outputs": [],
   "source": [
    "class Calc:\n",
    "    def __init__(self, a):\n",
    "        self.a = a\n",
    "   \n",
    "    def add(self, b):\n",
    "        print(self.a + b)\n",
    "        \n",
    "    def multiply(self, b):\n",
    "        print(self.a * b)"
   ]
  },
  {
   "cell_type": "code",
   "execution_count": 26,
   "metadata": {},
   "outputs": [
    {
     "name": "stdout",
     "output_type": "stream",
     "text": [
      "7\n",
      "12\n"
     ]
    }
   ],
   "source": [
    "calc = Calc(3)\n",
    "calc.add(4)\n",
    "calc.multiply(4)"
   ]
  },
  {
   "cell_type": "code",
   "execution_count": 27,
   "metadata": {},
   "outputs": [],
   "source": [
    "class CalcPlus(Calc):     # Calcを継承\n",
    "    def subtract(self, b):\n",
    "        print(self.a - b)\n",
    "        \n",
    "    def divide(self, b):\n",
    "        print(self.a / b)"
   ]
  },
  {
   "cell_type": "code",
   "execution_count": 28,
   "metadata": {},
   "outputs": [
    {
     "name": "stdout",
     "output_type": "stream",
     "text": [
      "7\n",
      "12\n",
      "-1\n",
      "0.75\n"
     ]
    }
   ],
   "source": [
    "calc_plus = CalcPlus(3)\n",
    "calc_plus.add(4)\n",
    "calc_plus.multiply(4)\n",
    "calc_plus.subtract(4)\n",
    "calc_plus.divide(4)"
   ]
  },
  {
   "cell_type": "code",
   "execution_count": null,
   "metadata": {},
   "outputs": [],
   "source": []
  }
 ],
 "metadata": {
  "kernelspec": {
   "display_name": "Python 3",
   "language": "python",
   "name": "python3"
  },
  "language_info": {
   "codemirror_mode": {
    "name": "ipython",
    "version": 3
   },
   "file_extension": ".py",
   "mimetype": "text/x-python",
   "name": "python",
   "nbconvert_exporter": "python",
   "pygments_lexer": "ipython3",
   "version": "3.7.7"
  }
 },
 "nbformat": 4,
 "nbformat_minor": 4
}

{
 "cells": [
  {
   "cell_type": "markdown",
   "metadata": {},
   "source": [
    "### 4.6 単一のニューロンを実装"
   ]
  },
  {
   "cell_type": "code",
   "execution_count": 8,
   "metadata": {},
   "outputs": [
    {
     "data": {
      "image/png": "[encoded data removed]",
      "text/plain": [
       "<Figure size 432x288 with 2 Axes>"
      ]
     },
     "metadata": {
      "needs_background": "light"
     },
     "output_type": "display_data"
    }
   ],
   "source": [
    "%matplotlib inline\n",
    "\n",
    "import numpy as np\n",
    "import matplotlib.pyplot as plt\n",
    "\n",
    "# x、y座標\n",
    "X = np.arange(-1.0, 1.0, 0.2)  # 要素数は10個\n",
    "Y = np.arange(-1.0, 1.0, 0.2)\n",
    "\n",
    "# 出力を格納する10x10のグリッド\n",
    "Z = np.zeros((10,10))\n",
    "\n",
    "# x、y座標の入力の重み\n",
    "w_x = 2.5\n",
    "w_y = 3.0\n",
    "\n",
    "# バイアス\n",
    "bias = 2.0\n",
    "\n",
    "# グリッドの各マスでニューロンの演算\n",
    "for i in range(10):\n",
    "    for j in range(10):\n",
    "        \n",
    "        # 入力と重みの積の総和 + バイアス\n",
    "        u = X[i]*w_x + Y[j]*w_y + bias \n",
    "        \n",
    "        # グリッドに出力を格納\n",
    "        y = 1/(1+np.exp(-u)) # シグモイド関数\n",
    "        Z[j][i] = y\n",
    "\n",
    "# グリッドの表示\n",
    "plt.imshow(Z, \"gray\", vmin = 0.0, vmax = 1.0)\n",
    "plt.colorbar()  \n",
    "plt.show()"
   ]
  },
  {
   "cell_type": "code",
   "execution_count": null,
   "metadata": {},
   "outputs": [],
   "source": []
  }
 ],
 "metadata": {
  "kernelspec": {
   "display_name": "Python 3",
   "language": "python",
   "name": "python3"
  },
  "language_info": {
   "codemirror_mode": {
    "name": "ipython",
    "version": 3
   },
   "file_extension": ".py",
   "mimetype": "text/x-python",
   "name": "python",
   "nbconvert_exporter": "python",
   "pygments_lexer": "ipython3",
   "version": "3.7.7"
  }
 },
 "nbformat": 4,
 "nbformat_minor": 4
}
